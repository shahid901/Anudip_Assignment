{
 "cells": [
  {
   "cell_type": "code",
   "execution_count": null,
   "metadata": {},
   "outputs": [
    {
     "name": "stdout",
     "output_type": "stream",
     "text": [
      "Mean of Each array: [np.float64(5.5), np.float64(30.6), np.float64(34.0)]\n"
     ]
    }
   ],
   "source": [
    "#1. How to find the mean of every NumPy array in the given list?\n",
    "import numpy as np\n",
    "# Given list of NumPy arrays\n",
    "arr_list = [\n",
    "    np.array([3, 2, 8, 9]),\n",
    "    np.array([4, 12, 34, 25, 78]),\n",
    "    np.array([23, 12, 67])\n",
    "]\n",
    "# Compute mean of each array in the list\n",
    "means = [np.mean(arr) for arr in arr_list]\n",
    "# Output the means of each array\n",
    "print(\"Mean of Each array:\", means)"
   ]
  },
  {
   "cell_type": "code",
   "execution_count": null,
   "metadata": {},
   "outputs": [
    {
     "name": "stdout",
     "output_type": "stream",
     "text": [
      "Printing the Original array:\n",
      "[1 2 3 4 5 6 7]\n",
      "Median of the array that contains odd no of elements: 4.0\n"
     ]
    }
   ],
   "source": [
    "#2. Compute the median of the flattened NumPy array \n",
    "import numpy as np\n",
    "# Given NumPy array with an odd number of elements\n",
    "x_odd = np.array([1, 2, 3, 4, 5, 6, 7])\n",
    "# Print original array\n",
    "print(\"Printing the Original array:\")\n",
    "print(x_odd)\n",
    "# Compute the median of the array\n",
    "median_value = np.median(x_odd)\n",
    "# Output the median\n",
    "print(\"Median of the array that contains odd no of elements:\", median_value)"
   ]
  },
  {
   "cell_type": "code",
   "execution_count": null,
   "metadata": {},
   "outputs": [
    {
     "name": "stdout",
     "output_type": "stream",
     "text": [
      "arr: [20  2  7  1 34]\n",
      "std of arr: 12.576167937809991\n",
      "std of arr with float32: 12.576168060302734\n",
      "std of arr with float64: 12.576167937809991\n"
     ]
    }
   ],
   "source": [
    "#3.Compute the standard deviation of the NumPy array\n",
    "import numpy as np\n",
    "# Given NumPy array\n",
    "arr = np.array([20, 2, 7, 1, 34])\n",
    "# Compute the standard deviation\n",
    "std_value = np.std(arr)\n",
    "# Output the standard deviation\n",
    "print(f\"arr: {arr}\")\n",
    "print(f\"std of arr: {std_value}\")\n",
    "# More precision with float32\n",
    "std_value_float32 = np.std(arr, dtype=np.float32)\n",
    "print(f\"std of arr with float32: {std_value_float32}\")\n",
    "# More accuracy with float64\n",
    "std_value_float64 = np.std(arr, dtype=np.float64)\n",
    "print(f\"std of arr with float64: {std_value_float64}\")"
   ]
  }
 ],
 "metadata": {
  "kernelspec": {
   "display_name": "Python 3",
   "language": "python",
   "name": "python3"
  },
  "language_info": {
   "codemirror_mode": {
    "name": "ipython",
    "version": 3
   },
   "file_extension": ".py",
   "mimetype": "text/x-python",
   "name": "python",
   "nbconvert_exporter": "python",
   "pygments_lexer": "ipython3",
   "version": "3.13.0"
  }
 },
 "nbformat": 4,
 "nbformat_minor": 2
}
