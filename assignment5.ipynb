{
 "cells": [
  {
   "cell_type": "markdown",
   "metadata": {},
   "source": [
    "File Handling"
   ]
  },
  {
   "cell_type": "code",
   "execution_count": 2,
   "metadata": {},
   "outputs": [
    {
     "name": "stdout",
     "output_type": "stream",
     "text": [
      "Hello, this is a sample text file created for testing Python file handling.\n",
      "It contains a few paragraphs of text, each designed to test different aspects of reading and writing operations in Python.\n",
      "The goal is to ensure that each paragraph can be processed individually or as part of the entire file.\n",
      "\n",
      "File handling is a crucial part of many programming tasks.\n",
      "With Python, you can easily read data from a file, process it, and write data back to the file if needed.\n",
      "Each paragraph here can be read line-by-line or as a complete block, depending on the functionality being tested.\n",
      "\n",
      "This file is used for file handling exercises.\n",
      "Python can read, write, and append data to files.\n",
      "Each new line can be counted and processed separately.\n",
      "Make sure to test reading line-by-line and entire content at once.\n",
      "\n",
      "End of sample file. Happy coding, and good luck with your file-handling tasks in Python!\n"
     ]
    }
   ],
   "source": [
    "#1. Write a function in python to read the content from a text file \"ABC.txt\" line by line and display the same on screen.\n",
    "def read_file_line_by_line(filename):\n",
    "    # Open the file in read mode\n",
    "    with open(filename, 'r') as file:\n",
    "        # Read and print each line\n",
    "        for line in file:\n",
    "            print(line.strip())  # strip() removes any extra newline characters\n",
    "\n",
    "# Call the function with the filename \"ABC.txt\"\n",
    "read_file_line_by_line(\"ABC.txt\")"
   ]
  },
  {
   "cell_type": "code",
   "execution_count": 4,
   "metadata": {},
   "outputs": [
    {
     "name": "stdout",
     "output_type": "stream",
     "text": [
      "Total number of words: 153\n"
     ]
    }
   ],
   "source": [
    "#2. Write a function in Python to count and display the total number of words in a text file \"ABC.txt\"\n",
    "def count_words_in_file(filename):\n",
    "    word_count = 0\n",
    "    # Open the file in read mode\n",
    "    with open(filename, \"r\") as file:\n",
    "        # Read each line in the file\n",
    "        for line in file:\n",
    "            # Split line into words and count them\n",
    "            words = line.split()\n",
    "            word_count += len(words)\n",
    "    print(\"Total number of words:\", word_count)\n",
    "\n",
    "# Call the function with the filename \"ABC.txt\"\n",
    "count_words_in_file(\"ABC.txt\")"
   ]
  },
  {
   "cell_type": "code",
   "execution_count": 5,
   "metadata": {},
   "outputs": [
    {
     "name": "stdout",
     "output_type": "stream",
     "text": [
      "Total number of uppercase characters: 16\n"
     ]
    }
   ],
   "source": [
    "#3. Write a function in Python to count uppercase character in a text file \"ABC.txt\"\n",
    "def count_uppercase_characters(filename):\n",
    "    uppercase_count = 0\n",
    "    # Open the file in read mode\n",
    "    with open(filename, 'r') as file:\n",
    "        # Read each line in the file\n",
    "        for line in file:\n",
    "            # Count uppercase characters in each line\n",
    "            for char in line:\n",
    "                if char.isupper():\n",
    "                    uppercase_count += 1\n",
    "    print(\"Total number of uppercase characters:\", uppercase_count)\n",
    "\n",
    "# Call the function with the filename \"ABC.txt\"\n",
    "count_uppercase_characters(\"ABC.txt\")"
   ]
  },
  {
   "cell_type": "code",
   "execution_count": null,
   "metadata": {},
   "outputs": [
    {
     "name": "stdout",
     "output_type": "stream",
     "text": [
      "a, in, by, the, boy, he, to, its, One, old, key, for, it, of, an, and, map, but, his, And, so,, "
     ]
    }
   ],
   "source": [
    "#4. Write a function display_words() in python to read lines from a text file \"story.txt\", and display those words, which are less than 4 characters.\n",
    "def display_words(filename):\n",
    "    # Initialize a set to store unique words\n",
    "    unique_words = set()\n",
    "    # Open the file in read mode\n",
    "    with open(filename, 'r') as file:\n",
    "        # Read each line in the file\n",
    "        for line in file:\n",
    "            # Split line into words\n",
    "            words = line.split()\n",
    "            # Process each word\n",
    "            for word in words:\n",
    "                # Check if the word is less than 4 characters and not already displayed\n",
    "                if len(word) < 4 and word not in unique_words:\n",
    "                    print(word, end=\", \")\n",
    "                    unique_words.add(word)  # Add the word to the set\n",
    "\n",
    "# Call the function with the filename \"story.txt\"\n",
    "display_words(\"story.txt\")"
   ]
  },
  {
   "cell_type": "markdown",
   "metadata": {},
   "source": [
    "Exception Handling"
   ]
  },
  {
   "cell_type": "code",
   "execution_count": null,
   "metadata": {},
   "outputs": [
    {
     "name": "stdout",
     "output_type": "stream",
     "text": [
      "Error: Cannot divide by zero!\n"
     ]
    }
   ],
   "source": [
    "#1. Write a Python program to handle a ZeroDivisionError exception when dividing a number by zero.\n",
    "try:\n",
    "    num1 = float(input(\"Enter the numerator: \"))\n",
    "    num2 = float(input(\"Enter the denominator: \"))\n",
    "    # Attempt to divide the numbers\n",
    "    result = num1 / num2\n",
    "    print(f\"The result of division is: {result}\")\n",
    "except ZeroDivisionError:\n",
    "    # Handle division by zero\n",
    "    print(\"Error: Cannot divide by zero!\")"
   ]
  },
  {
   "cell_type": "code",
   "execution_count": 25,
   "metadata": {},
   "outputs": [
    {
     "name": "stdout",
     "output_type": "stream",
     "text": [
      "Error: That is not a valid integer!\n"
     ]
    }
   ],
   "source": [
    "#2. Write a Python program that prompts the user to input an integer and raises a ValueError exception if the input is not a valid integer.\n",
    "try:\n",
    "    user_input = input(\"Please enter an integer: \")\n",
    "    # This will raise ValueError if input is not an integer\n",
    "    num = int(user_input)  \n",
    "    print(f\"You entered the integer: {num}\")\n",
    "except ValueError:\n",
    "    # Handle invalid input (not an integer)\n",
    "    print(\"Error: That is not a valid integer!\")"
   ]
  },
  {
   "cell_type": "code",
   "execution_count": null,
   "metadata": {},
   "outputs": [
    {
     "name": "stdout",
     "output_type": "stream",
     "text": [
      "Error: The file does not exist!\n"
     ]
    }
   ],
   "source": [
    "#3. Write a Python program that opens a file and handles a FileNotFoundError exception if the file does not exist.\n",
    "try:\n",
    "    # Attempt to open the file\n",
    "    with open(\"python.txt\", \"r\") as file:\n",
    "        content = file.read()\n",
    "        print(content)\n",
    "except FileNotFoundError:\n",
    "    # Handle the case where the file does not exist\n",
    "    print(\"Error: The file does not exist!\")"
   ]
  },
  {
   "cell_type": "code",
   "execution_count": null,
   "metadata": {},
   "outputs": [
    {
     "name": "stdout",
     "output_type": "stream",
     "text": [
      "Error: Please enter valid numerical inputs!\n"
     ]
    }
   ],
   "source": [
    "#4. Write a Python program that prompts the user to input two numbers and raises a TypeError exception if the inputs are not numerical\n",
    "try:\n",
    "     # Prompt the user for two numbers\n",
    "    num1 = input(\"Enter the first number: \")\n",
    "    num2 = input(\"Enter the second number: \")\n",
    "    # Attempting to convert both inputs to float\n",
    "    num1 = float(num1)\n",
    "    num2 = float(num2)\n",
    "    print(f\"The sum of the two numbers is: {num1 + num2}\")\n",
    "# Handle non-numerical input\n",
    "except ValueError:\n",
    "    print(\"Error: Please enter valid numerical inputs!\")\n",
    "except TypeError:\n",
    "    print(\"Error: Invalid type of input!\")"
   ]
  }
 ],
 "metadata": {
  "kernelspec": {
   "display_name": "Python 3",
   "language": "python",
   "name": "python3"
  },
  "language_info": {
   "codemirror_mode": {
    "name": "ipython",
    "version": 3
   },
   "file_extension": ".py",
   "mimetype": "text/x-python",
   "name": "python",
   "nbconvert_exporter": "python",
   "pygments_lexer": "ipython3",
   "version": "3.11.9"
  }
 },
 "nbformat": 4,
 "nbformat_minor": 2
}
