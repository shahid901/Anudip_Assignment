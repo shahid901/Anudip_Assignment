{
 "cells": [
  {
   "cell_type": "markdown",
   "metadata": {},
   "source": [
    "List"
   ]
  },
  {
   "cell_type": "code",
   "execution_count": null,
   "metadata": {},
   "outputs": [
    {
     "name": "stdout",
     "output_type": "stream",
     "text": [
      "Sum of all items: 36\n"
     ]
    }
   ],
   "source": [
    "#1. Sum All the Items in a List\n",
    "num = [1, 2, 3, 4, 5, 6, 7, 8]\n",
    "sum = 0\n",
    "for n in num:\n",
    "    sum += n    \n",
    "print(f\"Sum of all items: {sum}\")"
   ]
  },
  {
   "cell_type": "code",
   "execution_count": null,
   "metadata": {},
   "outputs": [
    {
     "name": "stdout",
     "output_type": "stream",
     "text": [
      "Largest number: 9\n",
      "Smallest number: 1\n"
     ]
    }
   ],
   "source": [
    "#2. Get the Largest and Smallest Number from a List without Built-in Functions\n",
    "num = [3, 5, 1, 2, 9, 7, 4]\n",
    "# Initialize variables to store the largest and smallest number\n",
    "# Start with the first element in the list as both the largest and smallest\n",
    "largest = num[0]\n",
    "smallest = num[0]\n",
    "# Loop through the list to compare each element\n",
    "for n in num:\n",
    "    if n > largest:\n",
    "        largest = n\n",
    "    if n < smallest:\n",
    "        smallest = n\n",
    "print(f\"Largest number: {largest}\")\n",
    "print(f\"Smallest number: {smallest}\")"
   ]
  },
  {
   "cell_type": "code",
   "execution_count": null,
   "metadata": {},
   "outputs": [
    {
     "name": "stdout",
     "output_type": "stream",
     "text": [
      "Duplicate values: [4, 1, 2]\n"
     ]
    }
   ],
   "source": [
    "#3. Find Duplicate Values from a List and Display Those\n",
    "num = [1, 2, 3, 4, 4, 5, 1, 8, 2]\n",
    "duplicates = [] # Initialize an empty list to store duplicates\n",
    "same = set() # Create a set to track seen elements\n",
    "# Loop through the list to find duplicates\n",
    "for n in num:\n",
    "    if n in same:\n",
    "        if n not in duplicates:\n",
    "            duplicates.append(n)\n",
    "    else:\n",
    "        same.add(n)\n",
    "print(f\"Duplicate values: {duplicates}\")"
   ]
  },
  {
   "cell_type": "code",
   "execution_count": null,
   "metadata": {},
   "outputs": [
    {
     "name": "stdout",
     "output_type": "stream",
     "text": [
      "Splitted list into two parts:\n",
      "First part: [1, 1, 2]\n",
      "Second part: [3, 4, 4, 5, 1]\n"
     ]
    }
   ],
   "source": [
    "#4. Split a List into Two Parts with Given Length for the First Part\n",
    "num = [1, 1, 2, 3, 4, 4, 5, 1]\n",
    "len = 3 # Length of the first part\n",
    "# The first part will contain the first 'n' elements\n",
    "# The second part will contain the remaining elements\n",
    "first = num[:len]\n",
    "next = num[len:]\n",
    "print(\"Splitted list into two parts:\")\n",
    "print(f\"First part: {first}\")\n",
    "print(f\"Second part: {next}\")"
   ]
  },
  {
   "cell_type": "code",
   "execution_count": null,
   "metadata": {},
   "outputs": [
    {
     "name": "stdout",
     "output_type": "stream",
     "text": [
      "List in reverse order:\n",
      "black\n",
      "white\n",
      "green\n",
      "red\n"
     ]
    }
   ],
   "source": [
    "colors = ['red', 'green', 'white', 'black']\n",
    "print(\"List in reverse order:\")\n",
    "# Iterate and Traverse the list in reverse order and print each element \n",
    "for i in range(len(colors) -1, -1, -1):\n",
    "    print(colors[i])"
   ]
  },
  {
   "cell_type": "markdown",
   "metadata": {},
   "source": [
    "Dictionary"
   ]
  },
  {
   "cell_type": "code",
   "execution_count": null,
   "metadata": {},
   "outputs": [
    {
     "name": "stdout",
     "output_type": "stream",
     "text": [
      "Mean of the dictionary values: 6.2\n"
     ]
    }
   ],
   "source": [
    "#1. Calculate the Mean of Values in a Dictionary\n",
    "test_dict = {\"A\": 6, \"B\": 9, \"C\": 5, \"D\": 7, \"E\": 4}\n",
    "mean = sum(test_dict.values()) / len(test_dict)  # Calculate the mean\n",
    "print(f\"Mean of the dictionary values: {mean}\")"
   ]
  },
  {
   "cell_type": "code",
   "execution_count": null,
   "metadata": {},
   "outputs": [
    {
     "name": "stdout",
     "output_type": "stream",
     "text": [
      "Concatenated dictionary: {1: 10, 2: 20, 3: 30, 4: 40, 5: 50, 6: 60}\n"
     ]
    }
   ],
   "source": [
    "#2. Concatenate Multiple Dictionaries into a New One\n",
    "dic1 = {1: 10, 2: 20}\n",
    "dic2 = {3: 30, 4: 40}\n",
    "dic3 = {5: 50, 6: 60}\n",
    "combined_dict = {**dic1, **dic2, **dic3}  # Concatenate dictionaries\n",
    "print(f\"Concatenated dictionary: {combined_dict}\")"
   ]
  },
  {
   "cell_type": "code",
   "execution_count": null,
   "metadata": {},
   "outputs": [
    {
     "name": "stdout",
     "output_type": "stream",
     "text": [
      "Key  Value\n",
      "1    10\n",
      "2    20\n",
      "3    30\n",
      "4    40\n",
      "5    50\n",
      "6    60\n"
     ]
    }
   ],
   "source": [
    "#3. Print Keys and Values of a Dictionary in a Table Format\n",
    "dict_num = {1: 10, 2: 20, 3: 30, 4: 40, 5: 50, 6: 60}\n",
    "print(\"Key  Value\")\n",
    "# Iterate over each Keys and Values to print in table format\n",
    "for key, value in dict_num.items():\n",
    "    print(f\"{key:<4} {value}\")"
   ]
  },
  {
   "cell_type": "code",
   "execution_count": null,
   "metadata": {},
   "outputs": [
    {
     "name": "stdout",
     "output_type": "stream",
     "text": [
      "Dictionary with Empty Items Dropped: {1: 10, 2: 20, 4: 40, 6: 60}\n"
     ]
    }
   ],
   "source": [
    "# 4. Print Keys and Values of a Dictionary by Removing Empty Items \n",
    "input_dict = {1: 10, 2: 20, 3: None, 4: 40, 5: None, 6: 60}\n",
    "# Removing items with None values\n",
    "filtered_dict = {key: value for key, value in input_dict.items() if value is not None}\n",
    "print(f\"Dictionary with Empty Items Dropped: {filtered_dict}\")"
   ]
  },
  {
   "cell_type": "markdown",
   "metadata": {},
   "source": [
    "Tuple"
   ]
  },
  {
   "cell_type": "code",
   "execution_count": null,
   "metadata": {},
   "outputs": [
    {
     "name": "stdout",
     "output_type": "stream",
     "text": [
      "Output: 3\n"
     ]
    }
   ],
   "source": [
    "#1. Find the number of times 4 appears in the tuple\n",
    "tuplex = (2, 4, 5, 6, 2, 3, 4, 4, 7)\n",
    "count = tuplex.count(4)  # Occurrences of 4 is counted\n",
    "print(\"Output:\", count)"
   ]
  },
  {
   "cell_type": "code",
   "execution_count": null,
   "metadata": {},
   "outputs": [
    {
     "name": "stdout",
     "output_type": "stream",
     "text": [
      "Output: (5, 10, 7, 4, 15, 3)\n"
     ]
    }
   ],
   "source": [
    "#2. Convert a list to a tuple\n",
    "listx = [5, 10, 7, 4, 15, 3]\n",
    "tuplex = tuple(listx)  # Tuple is created from List\n",
    "print(\"Output:\", tuplex)"
   ]
  },
  {
   "cell_type": "code",
   "execution_count": null,
   "metadata": {},
   "outputs": [
    {
     "name": "stdout",
     "output_type": "stream",
     "text": [
      "Sum of values in the tuples: 21\n"
     ]
    }
   ],
   "source": [
    "#3. Calculate the sum of the numbers in a list of tuples\n",
    "tuples_list = [(1, 2), (3, 4), (5, 6)]\n",
    "total = sum(sum(t) for t in tuples_list)  # Calculate the sum of all values in the tuples\n",
    "print(\"Sum of values in the tuples:\", total)"
   ]
  },
  {
   "cell_type": "code",
   "execution_count": null,
   "metadata": {},
   "outputs": [
    {
     "name": "stdout",
     "output_type": "stream",
     "text": [
      "Employee Details: \n",
      "Employee Name: John Doe\n",
      "ID: 101\n",
      "Department: Human Resources\n",
      "Salary: $60000\n",
      "\n",
      "Employee Name: Alice Smith\n",
      "ID: 102\n",
      "Department: Marketing\n",
      "Salary: $55000\n",
      "\n",
      "Employee Name: Bob Johnson\n",
      "ID: 103\n",
      "Department: Engineering\n",
      "Salary: $75000\n",
      "\n"
     ]
    }
   ],
   "source": [
    "#4. Iterate and display the given employee tuples\n",
    "employee1 = (\"John Doe\", 101, \"Human Resources\", 60000)\n",
    "employee2 = (\"Alice Smith\", 102, \"Marketing\", 55000)\n",
    "employee3 = (\"Bob Johnson\", 103, \"Engineering\", 75000)\n",
    "employees = [employee1, employee2, employee3]\n",
    "print(\"Employee Details: \")\n",
    "# Iterate over each employee tuple and display information\n",
    "for emp in employees: \n",
    "    name, emp_id, department, salary = emp\n",
    "    print(f\"Employee Name: {name}\")\n",
    "    print(f\"ID: {emp_id}\")\n",
    "    print(f\"Department: {department}\")\n",
    "    print(f\"Salary: ${salary}\")\n",
    "    print()  # Blank line between every employees detail "
   ]
  },
  {
   "cell_type": "markdown",
   "metadata": {},
   "source": [
    "Set"
   ]
  },
  {
   "cell_type": "code",
   "execution_count": null,
   "metadata": {},
   "outputs": [
    {
     "name": "stdout",
     "output_type": "stream",
     "text": [
      "Output: {50, 20, 40, 10, 30}\n"
     ]
    }
   ],
   "source": [
    "#1. Get only unique items from two sets\n",
    "set1 = {10, 20, 30, 40, 50}\n",
    "set2 = {30, 40, 50, 60, 70}\n",
    "unique_items = set1.union(set2)  # Get unique items from both sets (union)\n",
    "print(f\"Output: {unique_items}\")"
   ]
  },
  {
   "cell_type": "code",
   "execution_count": null,
   "metadata": {},
   "outputs": [
    {
     "name": "stdout",
     "output_type": "stream",
     "text": [
      "Output: {20, 70, 10, 60}\n"
     ]
    }
   ],
   "source": [
    "#2. Return a set of elements present in Set A or B, but not both\n",
    "set1 = {10, 20, 30, 40, 50}\n",
    "set2 = {30, 40, 50, 60, 70}\n",
    "unique_items = set1.symmetric_difference(set2)  # Get elements that are in set1 or set2 but not in both (symmetric difference)\n",
    "print(f\"Output: {unique_items}\")"
   ]
  },
  {
   "cell_type": "code",
   "execution_count": null,
   "metadata": {},
   "outputs": [
    {
     "name": "stdout",
     "output_type": "stream",
     "text": [
      "Output: {10}\n"
     ]
    }
   ],
   "source": [
    "#3. Check if two sets have any elements in common and display the common elements\n",
    "set1 = {10, 20, 30, 40, 50}\n",
    "set2 = {60, 70, 80, 90, 10}\n",
    "common_elements = set1.intersection(set2) # Find common elements (intersection)\n",
    "if common_elements:\n",
    "    print(\"Output:\", common_elements)\n",
    "else:\n",
    "    print(\"No common elements\")"
   ]
  },
  {
   "cell_type": "code",
   "execution_count": null,
   "metadata": {},
   "outputs": [
    {
     "name": "stdout",
     "output_type": "stream",
     "text": [
      "Output: {40, 50, 30}\n"
     ]
    }
   ],
   "source": [
    "#4. Remove items from set1 that are not common to both set1 and set2\n",
    "set1 = {10, 20, 30, 40, 50}\n",
    "set2 = {30, 40, 50, 60, 70}\n",
    "set1.intersection_update(set2)  # Keep only items in set1 that are also in set2 (intersection)\n",
    "print(f\"Output: {set1}\")"
   ]
  }
 ],
 "metadata": {
  "kernelspec": {
   "display_name": "Python 3",
   "language": "python",
   "name": "python3"
  },
  "language_info": {
   "codemirror_mode": {
    "name": "ipython",
    "version": 3
   },
   "file_extension": ".py",
   "mimetype": "text/x-python",
   "name": "python",
   "nbconvert_exporter": "python",
   "pygments_lexer": "ipython3",
   "version": "3.11.9"
  }
 },
 "nbformat": 4,
 "nbformat_minor": 2
}
