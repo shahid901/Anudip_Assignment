{
 "cells": [
  {
   "cell_type": "code",
   "execution_count": null,
   "metadata": {},
   "outputs": [
    {
     "name": "stdout",
     "output_type": "stream",
     "text": [
      "Array: [1 2 3 4 5]\n",
      "First element: 1\n",
      "Last element: 5\n",
      "Array after doubling each element:\n",
      "[ 2  4  6  8 10]\n"
     ]
    }
   ],
   "source": [
    "#1. Convert the below list into a numpy array then display the array then display the first and last index and then multiply each element by 2 and display the result\n",
    "import numpy as np\n",
    "# Given list\n",
    "my_list = [1, 2, 3, 4, 5]\n",
    "# Convert list to NumPy array\n",
    "arr = np.array(my_list)\n",
    "# Display the array\n",
    "print(\"Array:\", arr)\n",
    "# Display the first and last element\n",
    "print(\"First element:\", arr[0])\n",
    "print(\"Last element:\", arr[-1])\n",
    "# Multiply each element by 2 and display the result\n",
    "doubled_arr = arr * 2\n",
    "print(\"Array after doubling each element:\")\n",
    "print(doubled_arr)"
   ]
  },
  {
   "cell_type": "code",
   "execution_count": null,
   "metadata": {},
   "outputs": [
    {
     "name": "stdout",
     "output_type": "stream",
     "text": [
      "An array of 10 zeros:\n",
      "[0. 0. 0. 0. 0. 0. 0. 0. 0. 0.]\n",
      "\n",
      "An array of 10 ones:\n",
      "[1. 1. 1. 1. 1. 1. 1. 1. 1. 1.]\n",
      "\n",
      "An array of 10 fives:\n",
      "[5 5 5 5 5 5 5 5 5 5]\n"
     ]
    }
   ],
   "source": [
    "#2. Write a NumPy program to create an array of 10 zeros, 10 ones, and 10 fives.\n",
    "import numpy as np\n",
    "# Create an array of 10 zeros\n",
    "zeros_array = np.zeros(10)\n",
    "print(\"An array of 10 zeros:\")\n",
    "print(zeros_array)\n",
    "# Create an array of 10 ones\n",
    "ones_array = np.ones(10)\n",
    "print(\"\\nAn array of 10 ones:\")\n",
    "print(ones_array)\n",
    "# Create an array of 10 fives\n",
    "fives_array = np.full(10, 5)\n",
    "print(\"\\nAn array of 10 fives:\")\n",
    "print(fives_array)"
   ]
  },
  {
   "cell_type": "code",
   "execution_count": null,
   "metadata": {},
   "outputs": [
    {
     "name": "stdout",
     "output_type": "stream",
     "text": [
      "3x3 matrix with values from 2 to 10:\n",
      "[[ 2  3  4]\n",
      " [ 5  6  7]\n",
      " [ 8  9 10]]\n"
     ]
    }
   ],
   "source": [
    "#3. Write a NumPy program to create a 3x3 matrix with values ranging from 2 to 10.\n",
    "import numpy as np\n",
    "# Create a 3x3 matrix with values ranging from 2 to 10\n",
    "matrix = np.arange(2, 11).reshape(3, 3)\n",
    "print(\"3x3 matrix with values from 2 to 10:\")\n",
    "print(matrix)"
   ]
  }
 ],
 "metadata": {
  "kernelspec": {
   "display_name": "Python 3",
   "language": "python",
   "name": "python3"
  },
  "language_info": {
   "codemirror_mode": {
    "name": "ipython",
    "version": 3
   },
   "file_extension": ".py",
   "mimetype": "text/x-python",
   "name": "python",
   "nbconvert_exporter": "python",
   "pygments_lexer": "ipython3",
   "version": "3.13.0"
  }
 },
 "nbformat": 4,
 "nbformat_minor": 2
}
