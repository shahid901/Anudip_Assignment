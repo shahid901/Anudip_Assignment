{
 "cells": [
  {
   "cell_type": "markdown",
   "metadata": {},
   "source": [
    "SET A"
   ]
  },
  {
   "cell_type": "code",
   "execution_count": 21,
   "metadata": {},
   "outputs": [
    {
     "name": "stdout",
     "output_type": "stream",
     "text": [
      "Reversed number: 54321\n"
     ]
    }
   ],
   "source": [
    "#1. Reverse a Number using a While Loop\n",
    "num = int(input(\"Enter a number: \"))\n",
    "rev = 0\n",
    "while num > 0:\n",
    "    rem = num % 10\n",
    "    rev = rev * 10 + rem\n",
    "    num //= 10\n",
    "print(f\"Reversed number: {rev}\")"
   ]
  },
  {
   "cell_type": "code",
   "execution_count": 14,
   "metadata": {},
   "outputs": [
    {
     "name": "stdout",
     "output_type": "stream",
     "text": [
      "1221 is a palindrome\n"
     ]
    }
   ],
   "source": [
    "#2. Check if a Number is a Palindrome\n",
    "num = int(input(\"Enter a number: \"))\n",
    "temp=num\n",
    "rev = 0\n",
    "while temp > 0:\n",
    "    rem = temp % 10\n",
    "    rev = rev * 10 + rem\n",
    "    temp //= 10\n",
    "if num == rev:\n",
    "    print(f\"{num} is a palindrome\")\n",
    "else:\n",
    "    print(f\"{num} is not a palindrome\")"
   ]
  },
  {
   "cell_type": "code",
   "execution_count": 2,
   "metadata": {},
   "outputs": [
    {
     "name": "stdout",
     "output_type": "stream",
     "text": [
      "Factorial of 5 is 120\n"
     ]
    }
   ],
   "source": [
    "#3. Finding the Factorial of a Given Number using a While Loop\n",
    "num = int(input(\"Enter a number: \"))\n",
    "factorial = 1\n",
    "i = 1\n",
    "while i <= num:\n",
    "    factorial *= i\n",
    "    i += 1\n",
    "print(f\"Factorial of {num} is {factorial}\")"
   ]
  },
  {
   "cell_type": "code",
   "execution_count": 1,
   "metadata": {},
   "outputs": [
    {
     "name": "stdout",
     "output_type": "stream",
     "text": [
      "The sum of all numbers is 22\n"
     ]
    }
   ],
   "source": [
    "#4. Sum of Input Numbers until User Enters 0\n",
    "sum = 0\n",
    "while True:\n",
    "    num = int(input(\"Enter a number: \"))\n",
    "    if num == 0:\n",
    "        break\n",
    "    sum += num\n",
    "print(f\"The sum of all numbers is {sum}\")"
   ]
  },
  {
   "cell_type": "markdown",
   "metadata": {},
   "source": [
    "SET B"
   ]
  },
  {
   "cell_type": "code",
   "execution_count": 12,
   "metadata": {},
   "outputs": [
    {
     "name": "stdout",
     "output_type": "stream",
     "text": [
      "1\n",
      "2\n",
      "3\n",
      "4\n",
      "5\n",
      "6\n",
      "7\n",
      "8\n",
      "9\n",
      "10\n"
     ]
    }
   ],
   "source": [
    "#1. Print the First 10 Natural Numbers using a For Loop\n",
    "for i in range(1, 11):\n",
    "    print(i)"
   ]
  },
  {
   "cell_type": "code",
   "execution_count": 9,
   "metadata": {},
   "outputs": [
    {
     "name": "stdout",
     "output_type": "stream",
     "text": [
      "madam is a palindrome\n"
     ]
    }
   ],
   "source": [
    "#2. Check if a Given String is a Palindrome\n",
    "string = input(\"Enter a string: \")\n",
    "if string == string[::-1]:\n",
    "    print(f\"{string} is a palindrome\")\n",
    "else:\n",
    "    print(f\"{string} is not a palindrome\")"
   ]
  },
  {
   "cell_type": "code",
   "execution_count": 6,
   "metadata": {},
   "outputs": [
    {
     "name": "stdout",
     "output_type": "stream",
     "text": [
      "371 is an Armstrong number\n"
     ]
    }
   ],
   "source": [
    "#3. Check if a Number is an Armstrong Number\n",
    "num = int(input(\"Enter a number: \"))\n",
    "sum = 0\n",
    "temp = num\n",
    "order = len(str(num))\n",
    "\n",
    "while temp > 0:\n",
    "    digit = temp % 10\n",
    "    sum += digit ** order\n",
    "    temp //= 10\n",
    "if num == sum:\n",
    "    print(f\"{num} is an Armstrong number\")\n",
    "else:\n",
    "    print(f\"{num} is not an Armstrong number\")"
   ]
  },
  {
   "cell_type": "code",
   "execution_count": 4,
   "metadata": {},
   "outputs": [
    {
     "name": "stdout",
     "output_type": "stream",
     "text": [
      "Fibonacci series:\n",
      "0 1 1 2 3 5 8 13 21 34 \n"
     ]
    }
   ],
   "source": [
    "#4. Fibonacci Series between 0 to 50\n",
    "num1, num2 = 0, 1\n",
    "print(\"Fibonacci series:\")\n",
    "while num1 <= 50:\n",
    "    print(num1, end=\" \")\n",
    "    num1, num2 = num2, num1 + num2\n",
    "print()"
   ]
  },
  {
   "cell_type": "code",
   "execution_count": 3,
   "metadata": {},
   "outputs": [
    {
     "name": "stdout",
     "output_type": "stream",
     "text": [
      "Password is valid\n"
     ]
    }
   ],
   "source": [
    "#5. Check the Validity of Password Input by Users\n",
    "import re\n",
    "password = input(\"Enter a password: \")\n",
    "if (len(password) >= 8 and\n",
    "    re.search(\"[A-Z]\", password) and\n",
    "    re.search(\"[a-z]\", password) and\n",
    "    re.search(\"[0-9]\", password)):\n",
    "    print(\"Password is valid\")\n",
    "else:\n",
    "    print(\"Password is invalid\")"
   ]
  }
 ],
 "metadata": {
  "kernelspec": {
   "display_name": "Python 3",
   "language": "python",
   "name": "python3"
  },
  "language_info": {
   "codemirror_mode": {
    "name": "ipython",
    "version": 3
   },
   "file_extension": ".py",
   "mimetype": "text/x-python",
   "name": "python",
   "nbconvert_exporter": "python",
   "pygments_lexer": "ipython3",
   "version": "3.11.9"
  }
 },
 "nbformat": 4,
 "nbformat_minor": 2
}
