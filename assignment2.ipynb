{
 "cells": [
  {
   "cell_type": "code",
   "execution_count": 3,
   "metadata": {},
   "outputs": [
    {
     "name": "stdout",
     "output_type": "stream",
     "text": [
      "2024 is a leap year\n"
     ]
    }
   ],
   "source": [
    "#1. Program to Check Leap Year\n",
    "year = int(input(\"Enter a year: \"))\n",
    "if (year % 4 == 0 and year % 100 != 0) or (year % 400 == 0):\n",
    "    print(f\"{year} is a leap year\")\n",
    "else:\n",
    "    print(f\"{year} is not a leap year\")"
   ]
  },
  {
   "cell_type": "code",
   "execution_count": 2,
   "metadata": {},
   "outputs": [
    {
     "name": "stdout",
     "output_type": "stream",
     "text": [
      "The largest number is 36\n"
     ]
    }
   ],
   "source": [
    "#2. Program to Find the Largest Among Three Numbers\n",
    "num1 = int(input(\"Enter first number: \"))\n",
    "num2 = int(input(\"Enter second number: \"))\n",
    "num3 = int(input(\"Enter third number: \"))\n",
    "if (num1 >= num2) and (num1 >= num3):\n",
    "    largest = num1\n",
    "elif (num2 >= num1) and (num2 >= num3):\n",
    "    largest = num2\n",
    "else:\n",
    "    largest = num3\n",
    "print(\"The largest number is\", largest)"
   ]
  },
  {
   "cell_type": "code",
   "execution_count": 3,
   "metadata": {},
   "outputs": [
    {
     "name": "stdout",
     "output_type": "stream",
     "text": [
      "The number is positive\n"
     ]
    }
   ],
   "source": [
    "#3. Program to Check if a Number is Positive, Negative, or Zero\n",
    "num = int(input(\"Enter a number: \"))\n",
    "if num > 0:\n",
    "    print(\"The number is positive\")\n",
    "elif num == 0:\n",
    "    print(\"The number is zero\")\n",
    "else:\n",
    "    print(\"The number is negative\")"
   ]
  },
  {
   "cell_type": "code",
   "execution_count": 14,
   "metadata": {},
   "outputs": [
    {
     "name": "stdout",
     "output_type": "stream",
     "text": [
      "The net amount to be paid after discount is 345.8\n"
     ]
    }
   ],
   "source": [
    "#4. Program for Discount Calculation for Toy Vendor\n",
    "product_code = int(input(\"Enter the product code (1.Battery based Toys, 2.Key based Toys, 3.Electrical charging based Toys): \"))\n",
    "order_amount = float(input(\"Enter the order amount: \"))\n",
    "if product_code == 1 and order_amount > 1000:\n",
    "    discount = 0.10 * order_amount\n",
    "elif product_code == 2 and order_amount > 100:\n",
    "    discount = 0.05 * order_amount\n",
    "elif product_code == 3 and order_amount > 500:\n",
    "    discount = 0.10 * order_amount\n",
    "else:\n",
    "    discount = 0\n",
    "net_amount = order_amount - discount\n",
    "print(f\"The net amount to be paid after discount is {net_amount}\")"
   ]
  },
  {
   "cell_type": "code",
   "execution_count": 13,
   "metadata": {},
   "outputs": [
    {
     "name": "stdout",
     "output_type": "stream",
     "text": [
      "The fare for the 45 km is 360\n"
     ]
    }
   ],
   "source": [
    "#5. Program to Calculate Fare Based on Distance\n",
    "distance = int(input(\"Enter the distance traveled in km: \"))\n",
    "if 1 <= distance <= 50:\n",
    "    fare = distance * 8\n",
    "elif 51 <= distance <= 100:\n",
    "    fare = distance * 10\n",
    "elif distance > 100:\n",
    "    fare = distance * 12\n",
    "else:\n",
    "    fare = 0\n",
    "print(f\"The fare for the {distance} km is {fare}\")"
   ]
  }
 ],
 "metadata": {
  "kernelspec": {
   "display_name": "Python 3",
   "language": "python",
   "name": "python3"
  },
  "language_info": {
   "codemirror_mode": {
    "name": "ipython",
    "version": 3
   },
   "file_extension": ".py",
   "mimetype": "text/x-python",
   "name": "python",
   "nbconvert_exporter": "python",
   "pygments_lexer": "ipython3",
   "version": "3.11.9"
  }
 },
 "nbformat": 4,
 "nbformat_minor": 2
}
