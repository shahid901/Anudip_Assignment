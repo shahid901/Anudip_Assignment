{
 "cells": [
  {
   "cell_type": "code",
   "execution_count": 14,
   "metadata": {},
   "outputs": [
    {
     "name": "stdout",
     "output_type": "stream",
     "text": [
      "12 is Even number\n"
     ]
    }
   ],
   "source": [
    "#1. Using input() function take one number from the user and using ternary operators check whether the number is even or odd\n",
    "num = int(input(\"Enter a number: \"))\n",
    "result = \"Even\" if num % 2 == 0 else \"Odd\"\n",
    "print(f\"{num} is {result} number\")"
   ]
  },
  {
   "cell_type": "code",
   "execution_count": 11,
   "metadata": {},
   "outputs": [
    {
     "name": "stdout",
     "output_type": "stream",
     "text": [
      "Before swapping 25 53\n",
      "After swapping\n",
      "First number: 53\n",
      "Second number: 25\n"
     ]
    }
   ],
   "source": [
    "#2. Using input function take two number and then swap the number\n",
    "a = int(input(\"Enter the first number: \"))\n",
    "b = int(input(\"Enter the second number: \"))\n",
    "print(\"Before swapping\", a, b)\n",
    "a, b = b, a\n",
    "print(\"After swapping\")\n",
    "print(\"First number:\", a)\n",
    "print(\"Second number:\", b)"
   ]
  },
  {
   "cell_type": "code",
   "execution_count": 6,
   "metadata": {},
   "outputs": [
    {
     "name": "stdout",
     "output_type": "stream",
     "text": [
      "12.0 kilometers is equal to 7.45644 miles.\n"
     ]
    }
   ],
   "source": [
    "#3. Write a Program to Convert Kilometers to Miles\n",
    "kilometers = float(input(\"Enter distance in kilometers: \"))\n",
    "conversion = 0.62137\n",
    "miles = kilometers*conversion\n",
    "print(f\"{kilometers} kilometers is equal to {miles} miles.\")"
   ]
  },
  {
   "cell_type": "code",
   "execution_count": 7,
   "metadata": {},
   "outputs": [
    {
     "name": "stdout",
     "output_type": "stream",
     "text": [
      "The Simple Interest is: Rs.50.0\n"
     ]
    }
   ],
   "source": [
    "#4. Find the Simple Interest on Rs. 200 for 5 years at 5% per year.\n",
    "P = 200  \n",
    "T = 5    \n",
    "R = 5    \n",
    "simple_interest = (P*T*R)/100\n",
    "print(f\"The Simple Interest is: Rs.{simple_interest}\")"
   ]
  }
 ],
 "metadata": {
  "kernelspec": {
   "display_name": "Python 3",
   "language": "python",
   "name": "python3"
  },
  "language_info": {
   "codemirror_mode": {
    "name": "ipython",
    "version": 3
   },
   "file_extension": ".py",
   "mimetype": "text/x-python",
   "name": "python",
   "nbconvert_exporter": "python",
   "pygments_lexer": "ipython3",
   "version": "3.11.9"
  }
 },
 "nbformat": 4,
 "nbformat_minor": 2
}
